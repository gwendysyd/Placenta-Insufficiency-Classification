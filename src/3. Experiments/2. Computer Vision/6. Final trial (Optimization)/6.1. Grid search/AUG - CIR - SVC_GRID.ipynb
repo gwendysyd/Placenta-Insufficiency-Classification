{
  "cells": [
    {
      "cell_type": "code",
      "execution_count": 1,
      "metadata": {
        "colab": {
          "base_uri": "https://localhost:8080/"
        },
        "id": "2EmFRckc7TrQ",
        "outputId": "ed519738-7f82-46ab-ae99-eb228388f758"
      },
      "outputs": [
        {
          "output_type": "stream",
          "name": "stdout",
          "text": [
            "Mon Dec 25 15:44:16 2023       \n",
            "+---------------------------------------------------------------------------------------+\n",
            "| NVIDIA-SMI 535.104.05             Driver Version: 535.104.05   CUDA Version: 12.2     |\n",
            "|-----------------------------------------+----------------------+----------------------+\n",
            "| GPU  Name                 Persistence-M | Bus-Id        Disp.A | Volatile Uncorr. ECC |\n",
            "| Fan  Temp   Perf          Pwr:Usage/Cap |         Memory-Usage | GPU-Util  Compute M. |\n",
            "|                                         |                      |               MIG M. |\n",
            "|=========================================+======================+======================|\n",
            "|   0  Tesla V100-SXM2-16GB           Off | 00000000:00:04.0 Off |                    0 |\n",
            "| N/A   35C    P0              23W / 300W |      0MiB / 16384MiB |      0%      Default |\n",
            "|                                         |                      |                  N/A |\n",
            "+-----------------------------------------+----------------------+----------------------+\n",
            "                                                                                         \n",
            "+---------------------------------------------------------------------------------------+\n",
            "| Processes:                                                                            |\n",
            "|  GPU   GI   CI        PID   Type   Process name                            GPU Memory |\n",
            "|        ID   ID                                                             Usage      |\n",
            "|=======================================================================================|\n",
            "|  No running processes found                                                           |\n",
            "+---------------------------------------------------------------------------------------+\n"
          ]
        }
      ],
      "source": [
        "!nvidia-smi"
      ]
    },
    {
      "cell_type": "code",
      "source": [
        "!nvcc --version\n"
      ],
      "metadata": {
        "colab": {
          "base_uri": "https://localhost:8080/"
        },
        "id": "NIj2gR3LnMDF",
        "outputId": "75aca66f-f898-4647-cada-20d8df188435"
      },
      "execution_count": 2,
      "outputs": [
        {
          "output_type": "stream",
          "name": "stdout",
          "text": [
            "nvcc: NVIDIA (R) Cuda compiler driver\n",
            "Copyright (c) 2005-2023 NVIDIA Corporation\n",
            "Built on Tue_Aug_15_22:02:13_PDT_2023\n",
            "Cuda compilation tools, release 12.2, V12.2.140\n",
            "Build cuda_12.2.r12.2/compiler.33191640_0\n"
          ]
        }
      ]
    },
    {
      "cell_type": "code",
      "execution_count": 3,
      "metadata": {
        "id": "bTAN2yMc7V9E"
      },
      "outputs": [],
      "source": [
        "# This get the RAPIDS-Colab install files and test check your GPU.  Run this and the next cell only.\n",
        "# Please read the output of this cell.  If your Colab Instance is not RAPIDS compatible, it will warn you and give you remediation steps.\n",
        "#!git clone https://github.com/rapidsai/rapidsai-csp-utils.git\n",
        "#!python rapidsai-csp-utils/colab/pip-install.py"
      ]
    },
    {
      "cell_type": "code",
      "source": [
        "#pip install cudf-cu11==23.04 cuml-cu11==23.04 cugraph-cu11==23.04 cucim --extra-index-url=https://pypi.nvidia.com"
      ],
      "metadata": {
        "id": "00HLPxJ8qP4x"
      },
      "execution_count": 4,
      "outputs": []
    },
    {
      "cell_type": "code",
      "source": [
        "pip install cudf-cu12==23.6.0 cuml-cu12==23.6.0 cugraph-cu12==23.6.0 cucim --extra-index-url=https://pypi.nvidia.com"
      ],
      "metadata": {
        "colab": {
          "base_uri": "https://localhost:8080/"
        },
        "id": "91iRJTLfF_Bt",
        "outputId": "c9a05ef9-d9c0-43b6-dcac-81f54ff53634"
      },
      "execution_count": 5,
      "outputs": [
        {
          "output_type": "stream",
          "name": "stdout",
          "text": [
            "Looking in indexes: https://pypi.org/simple, https://pypi.nvidia.com\n",
            "Collecting cudf-cu12==23.6.0\n",
            "  Downloading https://pypi.nvidia.com/cudf-cu12/cudf_cu12-23.6.0-cp310-cp310-manylinux_2_17_x86_64.manylinux2014_x86_64.whl (493.3 MB)\n",
            "\u001b[2K     \u001b[90m━━━━━━━━━━━━━━━━━━━━━━━━━━━━━━━━━━━━━━━━\u001b[0m \u001b[32m493.3/493.3 MB\u001b[0m \u001b[31m2.0 MB/s\u001b[0m eta \u001b[36m0:00:00\u001b[0m\n",
            "\u001b[?25hCollecting cuml-cu12==23.6.0\n",
            "  Downloading https://pypi.nvidia.com/cuml-cu12/cuml_cu12-23.6.0-cp310-cp310-manylinux_2_17_x86_64.manylinux2014_x86_64.whl (959.1 MB)\n",
            "\u001b[2K     \u001b[90m━━━━━━━━━━━━━━━━━━━━━━━━━━━━━━━━━━━━━━━━\u001b[0m \u001b[32m959.1/959.1 MB\u001b[0m \u001b[31m1.8 MB/s\u001b[0m eta \u001b[36m0:00:00\u001b[0m\n",
            "\u001b[?25hCollecting cugraph-cu12==23.6.0\n",
            "  Downloading https://pypi.nvidia.com/cugraph-cu12/cugraph_cu12-23.6.0-cp310-cp310-manylinux_2_17_x86_64.manylinux2014_x86_64.whl (1133.9 MB)\n",
            "\u001b[2K     \u001b[90m━━━━━━━━━━━━━━━━━━━━━━━━━━━━━━━━━━━━━━━━\u001b[0m \u001b[32m1.1/1.1 GB\u001b[0m \u001b[31m702.6 kB/s\u001b[0m eta \u001b[36m0:00:00\u001b[0m\n",
            "\u001b[?25hCollecting cucim\n",
            "  Downloading cucim-23.10.0-py3-none-manylinux2014_x86_64.manylinux_2_17_x86_64.whl (9.7 MB)\n",
            "\u001b[2K     \u001b[90m━━━━━━━━━━━━━━━━━━━━━━━━━━━━━━━━━━━━━━━━\u001b[0m \u001b[32m9.7/9.7 MB\u001b[0m \u001b[31m28.3 MB/s\u001b[0m eta \u001b[36m0:00:00\u001b[0m\n",
            "\u001b[?25hRequirement already satisfied: cachetools in /usr/local/lib/python3.10/dist-packages (from cudf-cu12==23.6.0) (5.3.2)\n",
            "Collecting cuda-python<13.0,>=12.0 (from cudf-cu12==23.6.0)\n",
            "  Downloading cuda_python-12.3.0-cp310-cp310-manylinux_2_17_x86_64.manylinux2014_x86_64.whl (23.6 MB)\n",
            "\u001b[2K     \u001b[90m━━━━━━━━━━━━━━━━━━━━━━━━━━━━━━━━━━━━━━━━\u001b[0m \u001b[32m23.6/23.6 MB\u001b[0m \u001b[31m36.7 MB/s\u001b[0m eta \u001b[36m0:00:00\u001b[0m\n",
            "\u001b[?25hRequirement already satisfied: cupy-cuda12x>=12.0.0 in /usr/local/lib/python3.10/dist-packages (from cudf-cu12==23.6.0) (12.2.0)\n",
            "Requirement already satisfied: fsspec>=0.6.0 in /usr/local/lib/python3.10/dist-packages (from cudf-cu12==23.6.0) (2023.6.0)\n",
            "Requirement already satisfied: numba>=0.57 in /usr/local/lib/python3.10/dist-packages (from cudf-cu12==23.6.0) (0.58.1)\n",
            "Requirement already satisfied: numpy>=1.21 in /usr/local/lib/python3.10/dist-packages (from cudf-cu12==23.6.0) (1.23.5)\n",
            "Collecting nvtx>=0.2.1 (from cudf-cu12==23.6.0)\n",
            "  Downloading nvtx-0.2.8-cp310-cp310-manylinux_2_17_x86_64.manylinux2014_x86_64.whl (582 kB)\n",
            "\u001b[2K     \u001b[90m━━━━━━━━━━━━━━━━━━━━━━━━━━━━━━━━━━━━━━━━\u001b[0m \u001b[32m582.4/582.4 kB\u001b[0m \u001b[31m33.9 MB/s\u001b[0m eta \u001b[36m0:00:00\u001b[0m\n",
            "\u001b[?25hRequirement already satisfied: packaging in /usr/local/lib/python3.10/dist-packages (from cudf-cu12==23.6.0) (23.2)\n",
            "Requirement already satisfied: pandas<1.6.0dev0,>=1.3 in /usr/local/lib/python3.10/dist-packages (from cudf-cu12==23.6.0) (1.5.3)\n",
            "Collecting protobuf<4.22,>=4.21.6 (from cudf-cu12==23.6.0)\n",
            "  Downloading protobuf-4.21.12-cp37-abi3-manylinux2014_x86_64.whl (409 kB)\n",
            "\u001b[2K     \u001b[90m━━━━━━━━━━━━━━━━━━━━━━━━━━━━━━━━━━━━━━━━\u001b[0m \u001b[32m409.8/409.8 kB\u001b[0m \u001b[31m38.5 MB/s\u001b[0m eta \u001b[36m0:00:00\u001b[0m\n",
            "\u001b[?25hCollecting pyarrow==11.* (from cudf-cu12==23.6.0)\n",
            "  Downloading pyarrow-11.0.0-cp310-cp310-manylinux_2_17_x86_64.manylinux2014_x86_64.whl (34.9 MB)\n",
            "\u001b[2K     \u001b[90m━━━━━━━━━━━━━━━━━━━━━━━━━━━━━━━━━━━━━━━━\u001b[0m \u001b[32m34.9/34.9 MB\u001b[0m \u001b[31m11.9 MB/s\u001b[0m eta \u001b[36m0:00:00\u001b[0m\n",
            "\u001b[?25hCollecting rmm-cu12==23.6.* (from cudf-cu12==23.6.0)\n",
            "  Downloading https://pypi.nvidia.com/rmm-cu12/rmm_cu12-23.6.0-cp310-cp310-manylinux_2_17_x86_64.manylinux2014_x86_64.whl (1.7 MB)\n",
            "\u001b[2K     \u001b[90m━━━━━━━━━━━━━━━━━━━━━━━━━━━━━━━━━━━━━━━━\u001b[0m \u001b[32m1.7/1.7 MB\u001b[0m \u001b[31m40.2 MB/s\u001b[0m eta \u001b[36m0:00:00\u001b[0m\n",
            "\u001b[?25hRequirement already satisfied: typing-extensions in /usr/local/lib/python3.10/dist-packages (from cudf-cu12==23.6.0) (4.5.0)\n",
            "Collecting dask-cuda==23.6.* (from cuml-cu12==23.6.0)\n",
            "  Downloading dask_cuda-23.6.0-py3-none-any.whl (125 kB)\n",
            "\u001b[2K     \u001b[90m━━━━━━━━━━━━━━━━━━━━━━━━━━━━━━━━━━━━━━━━\u001b[0m \u001b[32m125.2/125.2 kB\u001b[0m \u001b[31m18.2 MB/s\u001b[0m eta \u001b[36m0:00:00\u001b[0m\n",
            "\u001b[?25hCollecting dask-cudf-cu12==23.6.* (from cuml-cu12==23.6.0)\n",
            "  Downloading https://pypi.nvidia.com/dask-cudf-cu12/dask_cudf_cu12-23.6.0-py3-none-any.whl (79 kB)\n",
            "\u001b[2K     \u001b[90m━━━━━━━━━━━━━━━━━━━━━━━━━━━━━━━━━━━━━━━━\u001b[0m \u001b[32m79.6/79.6 kB\u001b[0m \u001b[31m11.6 MB/s\u001b[0m eta \u001b[36m0:00:00\u001b[0m\n",
            "\u001b[?25hCollecting dask==2023.3.2 (from cuml-cu12==23.6.0)\n",
            "  Downloading dask-2023.3.2-py3-none-any.whl (1.2 MB)\n",
            "\u001b[2K     \u001b[90m━━━━━━━━━━━━━━━━━━━━━━━━━━━━━━━━━━━━━━━━\u001b[0m \u001b[32m1.2/1.2 MB\u001b[0m \u001b[31m74.7 MB/s\u001b[0m eta \u001b[36m0:00:00\u001b[0m\n",
            "\u001b[?25hCollecting distributed==2023.3.2.1 (from cuml-cu12==23.6.0)\n",
            "  Downloading distributed-2023.3.2.1-py3-none-any.whl (957 kB)\n",
            "\u001b[2K     \u001b[90m━━━━━━━━━━━━━━━━━━━━━━━━━━━━━━━━━━━━━━━━\u001b[0m \u001b[32m957.1/957.1 kB\u001b[0m \u001b[31m72.7 MB/s\u001b[0m eta \u001b[36m0:00:00\u001b[0m\n",
            "\u001b[?25hRequirement already satisfied: joblib>=0.11 in /usr/local/lib/python3.10/dist-packages (from cuml-cu12==23.6.0) (1.3.2)\n",
            "Collecting raft-dask-cu12==23.6.* (from cuml-cu12==23.6.0)\n",
            "  Downloading https://pypi.nvidia.com/raft-dask-cu12/raft_dask_cu12-23.6.2-cp310-cp310-manylinux_2_17_x86_64.manylinux2014_x86_64.whl (212.4 MB)\n",
            "\u001b[2K     \u001b[90m━━━━━━━━━━━━━━━━━━━━━━━━━━━━━━━━━━━━━━━━\u001b[0m \u001b[32m212.4/212.4 MB\u001b[0m \u001b[31m5.6 MB/s\u001b[0m eta \u001b[36m0:00:00\u001b[0m\n",
            "\u001b[?25hRequirement already satisfied: scipy in /usr/local/lib/python3.10/dist-packages (from cuml-cu12==23.6.0) (1.11.4)\n",
            "Collecting treelite==3.2.0 (from cuml-cu12==23.6.0)\n",
            "  Downloading treelite-3.2.0-py3-none-manylinux2014_x86_64.whl (1.0 MB)\n",
            "\u001b[2K     \u001b[90m━━━━━━━━━━━━━━━━━━━━━━━━━━━━━━━━━━━━━━━━\u001b[0m \u001b[32m1.0/1.0 MB\u001b[0m \u001b[31m51.2 MB/s\u001b[0m eta \u001b[36m0:00:00\u001b[0m\n",
            "\u001b[?25hCollecting treelite-runtime==3.2.0 (from cuml-cu12==23.6.0)\n",
            "  Downloading treelite_runtime-3.2.0-py3-none-manylinux2014_x86_64.whl (198 kB)\n",
            "\u001b[2K     \u001b[90m━━━━━━━━━━━━━━━━━━━━━━━━━━━━━━━━━━━━━━━━\u001b[0m \u001b[32m198.2/198.2 kB\u001b[0m \u001b[31m21.3 MB/s\u001b[0m eta \u001b[36m0:00:00\u001b[0m\n",
            "\u001b[?25hCollecting pylibcugraph-cu12==23.6.* (from cugraph-cu12==23.6.0)\n",
            "  Downloading https://pypi.nvidia.com/pylibcugraph-cu12/pylibcugraph_cu12-23.6.2-cp310-cp310-manylinux_2_17_x86_64.manylinux2014_x86_64.whl (1134.6 MB)\n",
            "\u001b[2K     \u001b[90m━━━━━━━━━━━━━━━━━━━━━━━━━━━━━━━━━━━━━━━━\u001b[0m \u001b[32m1.1/1.1 GB\u001b[0m \u001b[31m1.2 MB/s\u001b[0m eta \u001b[36m0:00:00\u001b[0m\n",
            "\u001b[?25hCollecting ucx-py-cu12==0.32.* (from cugraph-cu12==23.6.0)\n",
            "  Downloading https://pypi.nvidia.com/ucx-py-cu12/ucx_py_cu12-0.32.0-cp310-cp310-manylinux_2_17_x86_64.manylinux2014_x86_64.whl (7.9 MB)\n",
            "\u001b[2K     \u001b[90m━━━━━━━━━━━━━━━━━━━━━━━━━━━━━━━━━━━━━━━━\u001b[0m \u001b[32m7.9/7.9 MB\u001b[0m \u001b[31m83.8 MB/s\u001b[0m eta \u001b[36m0:00:00\u001b[0m\n",
            "\u001b[?25hRequirement already satisfied: click>=7.0 in /usr/local/lib/python3.10/dist-packages (from dask==2023.3.2->cuml-cu12==23.6.0) (8.1.7)\n",
            "Requirement already satisfied: cloudpickle>=1.1.1 in /usr/local/lib/python3.10/dist-packages (from dask==2023.3.2->cuml-cu12==23.6.0) (2.2.1)\n",
            "Requirement already satisfied: partd>=1.2.0 in /usr/local/lib/python3.10/dist-packages (from dask==2023.3.2->cuml-cu12==23.6.0) (1.4.1)\n",
            "Requirement already satisfied: pyyaml>=5.3.1 in /usr/local/lib/python3.10/dist-packages (from dask==2023.3.2->cuml-cu12==23.6.0) (6.0.1)\n",
            "Requirement already satisfied: toolz>=0.8.2 in /usr/local/lib/python3.10/dist-packages (from dask==2023.3.2->cuml-cu12==23.6.0) (0.12.0)\n",
            "Requirement already satisfied: importlib-metadata>=4.13.0 in /usr/local/lib/python3.10/dist-packages (from dask==2023.3.2->cuml-cu12==23.6.0) (7.0.0)\n",
            "Collecting pynvml<11.5,>=11.0.0 (from dask-cuda==23.6.*->cuml-cu12==23.6.0)\n",
            "  Downloading pynvml-11.4.1-py3-none-any.whl (46 kB)\n",
            "\u001b[2K     \u001b[90m━━━━━━━━━━━━━━━━━━━━━━━━━━━━━━━━━━━━━━━━\u001b[0m \u001b[32m47.0/47.0 kB\u001b[0m \u001b[31m6.5 MB/s\u001b[0m eta \u001b[36m0:00:00\u001b[0m\n",
            "\u001b[?25hRequirement already satisfied: zict>=2.0.0 in /usr/local/lib/python3.10/dist-packages (from dask-cuda==23.6.*->cuml-cu12==23.6.0) (3.0.0)\n",
            "Requirement already satisfied: jinja2>=2.10.3 in /usr/local/lib/python3.10/dist-packages (from distributed==2023.3.2.1->cuml-cu12==23.6.0) (3.1.2)\n",
            "Requirement already satisfied: locket>=1.0.0 in /usr/local/lib/python3.10/dist-packages (from distributed==2023.3.2.1->cuml-cu12==23.6.0) (1.0.0)\n",
            "Requirement already satisfied: msgpack>=1.0.0 in /usr/local/lib/python3.10/dist-packages (from distributed==2023.3.2.1->cuml-cu12==23.6.0) (1.0.7)\n",
            "Requirement already satisfied: psutil>=5.7.0 in /usr/local/lib/python3.10/dist-packages (from distributed==2023.3.2.1->cuml-cu12==23.6.0) (5.9.5)\n",
            "Requirement already satisfied: sortedcontainers>=2.0.5 in /usr/local/lib/python3.10/dist-packages (from distributed==2023.3.2.1->cuml-cu12==23.6.0) (2.4.0)\n",
            "Requirement already satisfied: tblib>=1.6.0 in /usr/local/lib/python3.10/dist-packages (from distributed==2023.3.2.1->cuml-cu12==23.6.0) (3.0.0)\n",
            "Requirement already satisfied: tornado>=6.0.3 in /usr/local/lib/python3.10/dist-packages (from distributed==2023.3.2.1->cuml-cu12==23.6.0) (6.3.2)\n",
            "Requirement already satisfied: urllib3>=1.24.3 in /usr/local/lib/python3.10/dist-packages (from distributed==2023.3.2.1->cuml-cu12==23.6.0) (2.0.7)\n",
            "Collecting pylibraft-cu12==23.6.* (from pylibcugraph-cu12==23.6.*->cugraph-cu12==23.6.0)\n",
            "  Downloading https://pypi.nvidia.com/pylibraft-cu12/pylibraft_cu12-23.6.2-cp310-cp310-manylinux_2_17_x86_64.manylinux2014_x86_64.whl (446.4 MB)\n",
            "\u001b[2K     \u001b[90m━━━━━━━━━━━━━━━━━━━━━━━━━━━━━━━━━━━━━━━━\u001b[0m \u001b[32m446.4/446.4 MB\u001b[0m \u001b[31m2.3 MB/s\u001b[0m eta \u001b[36m0:00:00\u001b[0m\n",
            "\u001b[?25hRequirement already satisfied: lazy-loader>=0.1 in /usr/local/lib/python3.10/dist-packages (from cucim) (0.3)\n",
            "Requirement already satisfied: fastrlock>=0.5 in /usr/local/lib/python3.10/dist-packages (from cupy-cuda12x>=12.0.0->cudf-cu12==23.6.0) (0.8.2)\n",
            "Requirement already satisfied: llvmlite<0.42,>=0.41.0dev0 in /usr/local/lib/python3.10/dist-packages (from numba>=0.57->cudf-cu12==23.6.0) (0.41.1)\n",
            "Requirement already satisfied: python-dateutil>=2.8.1 in /usr/local/lib/python3.10/dist-packages (from pandas<1.6.0dev0,>=1.3->cudf-cu12==23.6.0) (2.8.2)\n",
            "Requirement already satisfied: pytz>=2020.1 in /usr/local/lib/python3.10/dist-packages (from pandas<1.6.0dev0,>=1.3->cudf-cu12==23.6.0) (2023.3.post1)\n",
            "Requirement already satisfied: zipp>=0.5 in /usr/local/lib/python3.10/dist-packages (from importlib-metadata>=4.13.0->dask==2023.3.2->cuml-cu12==23.6.0) (3.17.0)\n",
            "Requirement already satisfied: MarkupSafe>=2.0 in /usr/local/lib/python3.10/dist-packages (from jinja2>=2.10.3->distributed==2023.3.2.1->cuml-cu12==23.6.0) (2.1.3)\n",
            "Requirement already satisfied: six>=1.5 in /usr/local/lib/python3.10/dist-packages (from python-dateutil>=2.8.1->pandas<1.6.0dev0,>=1.3->cudf-cu12==23.6.0) (1.16.0)\n",
            "Installing collected packages: nvtx, cuda-python, pynvml, pyarrow, protobuf, cucim, ucx-py-cu12, treelite-runtime, treelite, rmm-cu12, dask, pylibraft-cu12, distributed, cudf-cu12, pylibcugraph-cu12, dask-cudf-cu12, dask-cuda, raft-dask-cu12, cuml-cu12, cugraph-cu12\n",
            "  Attempting uninstall: pyarrow\n",
            "    Found existing installation: pyarrow 10.0.1\n",
            "    Uninstalling pyarrow-10.0.1:\n",
            "      Successfully uninstalled pyarrow-10.0.1\n",
            "  Attempting uninstall: protobuf\n",
            "    Found existing installation: protobuf 3.20.3\n",
            "    Uninstalling protobuf-3.20.3:\n",
            "      Successfully uninstalled protobuf-3.20.3\n",
            "  Attempting uninstall: dask\n",
            "    Found existing installation: dask 2023.8.1\n",
            "    Uninstalling dask-2023.8.1:\n",
            "      Successfully uninstalled dask-2023.8.1\n",
            "  Attempting uninstall: distributed\n",
            "    Found existing installation: distributed 2023.8.1\n",
            "    Uninstalling distributed-2023.8.1:\n",
            "      Successfully uninstalled distributed-2023.8.1\n",
            "\u001b[31mERROR: pip's dependency resolver does not currently take into account all the packages that are installed. This behaviour is the source of the following dependency conflicts.\n",
            "tensorflow-metadata 1.14.0 requires protobuf<4.21,>=3.20.3, but you have protobuf 4.21.12 which is incompatible.\u001b[0m\u001b[31m\n",
            "\u001b[0mSuccessfully installed cucim-23.10.0 cuda-python-12.3.0 cudf-cu12-23.6.0 cugraph-cu12-23.6.0 cuml-cu12-23.6.0 dask-2023.3.2 dask-cuda-23.6.0 dask-cudf-cu12-23.6.0 distributed-2023.3.2.1 nvtx-0.2.8 protobuf-4.21.12 pyarrow-11.0.0 pylibcugraph-cu12-23.6.2 pylibraft-cu12-23.6.2 pynvml-11.4.1 raft-dask-cu12-23.6.2 rmm-cu12-23.6.0 treelite-3.2.0 treelite-runtime-3.2.0 ucx-py-cu12-0.32.0\n"
          ]
        }
      ]
    },
    {
      "cell_type": "code",
      "source": [
        "#!nvcc --version"
      ],
      "metadata": {
        "id": "3EnsuU9EHJrI"
      },
      "execution_count": 6,
      "outputs": []
    },
    {
      "cell_type": "code",
      "execution_count": 7,
      "metadata": {
        "id": "mN4McnuK0QRv"
      },
      "outputs": [],
      "source": [
        "import cuml\n",
        "import numpy as np\n",
        "from cuml.svm import SVC\n",
        "from cuml.svm import LinearSVC\n",
        "from cuml.model_selection import train_test_split, GridSearchCV\n",
        "from sklearn.datasets import make_classification"
      ]
    },
    {
      "cell_type": "code",
      "execution_count": 8,
      "metadata": {
        "id": "DlRVRaW-8aWm"
      },
      "outputs": [],
      "source": [
        "import pandas as pd\n",
        "import os\n",
        "import cv2\n",
        "import numpy as np\n",
        "\n",
        "from skimage.feature import graycomatrix, graycoprops\n",
        "from sklearn.metrics import make_scorer, f1_score\n",
        "\n",
        "from datetime import datetime\n",
        "import time\n",
        "\n",
        "from sklearn.metrics import confusion_matrix, classification_report, roc_auc_score, roc_curve, auc, accuracy_score, f1_score, recall_score, precision_score\n",
        "import seaborn as sns\n",
        "import matplotlib.pyplot as plt"
      ]
    },
    {
      "cell_type": "code",
      "execution_count": 9,
      "metadata": {
        "id": "M5scwRX18dW2"
      },
      "outputs": [],
      "source": [
        "def get_model_metrics(test_data, model, model_name):\n",
        "    \"\"\"\n",
        "    Evaluates a binary classification model on test data and reports various performance metrics.\n",
        "    It calculates the confusion matrix, ROC curve, and several statistical measures including accuracy,\n",
        "    sensitivity, specificity, precision, NPV (Negative Predictive Value), PLR (Positive Likelihood Ratio),\n",
        "    NLR (Negative Likelihood Ratio), and F1-score. Additionally, it identifies the best threshold for\n",
        "    classification based on the max sensitivity within a minimum required specificity.\n",
        "\n",
        "    The function saves the confusion matrix and ROC curve plots in a local directory, and appends the\n",
        "    calculated metrics to a CSV file. This file is created if it doesn't exist, or updated if it does.\n",
        "\n",
        "    Parameters:\n",
        "    - test_data (iterable): The test dataset, typically a generator or an iterable that yields batches\n",
        "      of images and labels.\n",
        "    - model (keras.Model): The trained Keras model to evaluate.\n",
        "    - model_name (str): The name of the model, used for saving output files.\n",
        "\n",
        "    No return value. The function directly prints the calculated metrics and saves the results and plots\n",
        "    to the local file system.\n",
        "    \"\"\"\n",
        "    timestamp = datetime.now().strftime(\"%Y%m%d%H%M%S\")\n",
        "    results_folder = 'results'\n",
        "    csv_file = f'{results_folder}/model_performance.csv'\n",
        "\n",
        "    if not os.path.exists(results_folder):\n",
        "        os.makedirs(results_folder)\n",
        "\n",
        "    predicted_probs = model.predict_proba(test_data[0])\n",
        "    predicted_probs = predicted_probs[:, 1]\n",
        "    true_labels = test_data[1]\n",
        "    predicted_labels = model.predict(test_data[0])\n",
        "\n",
        "    # ROC AUC\n",
        "    fpr, tpr, thresholds = roc_curve(true_labels, predicted_probs)\n",
        "    roc_auc = auc(fpr, tpr)\n",
        "\n",
        "    # Calculate max sensitivity where specificity is >= 1 - prevalence\n",
        "    prevalence = sum(true_labels) / len(true_labels)\n",
        "\n",
        "    max_sensitivity = 0\n",
        "    for i in range(len(fpr)):\n",
        "        specificity = 1 - fpr[i]\n",
        "        if specificity >= 1 - prevalence:\n",
        "            max_sensitivity = max(max_sensitivity, tpr[i])\n",
        "    print(f\"Max Sensitivity at Specificity >= {1 - prevalence:.2f}: {max_sensitivity:.2f}\")\n",
        "\n",
        "    # Confusion Matrix\n",
        "    threshold_for_max_sensitivity = thresholds[np.argmax(tpr == max_sensitivity)]\n",
        "    final_predicted_labels = [1 if p > threshold_for_max_sensitivity else 0 for p in predicted_probs]\n",
        "\n",
        "    # Confusion Matrix\n",
        "    confusion_mtx = confusion_matrix(true_labels, final_predicted_labels)\n",
        "    # plot the confusion matrix\n",
        "    f,ax = plt.subplots(figsize=(8, 8))\n",
        "    sns.heatmap(confusion_mtx, annot=True, linewidths=0.01,cmap=\"Purples\",linecolor=\"gray\", fmt= '.1f',ax=ax)\n",
        "    plt.xlabel(\"Predicted Label\")\n",
        "    plt.ylabel(\"True Label\")\n",
        "    plt.title(\"Confusion Matrix\")\n",
        "    plt.savefig(f'{results_folder}/{model_name}_run_{timestamp}_confusion_matrix.png')\n",
        "    plt.show()\n",
        "\n",
        "    # Classification report\n",
        "    report = classification_report(true_labels, final_predicted_labels)\n",
        "    print(report)\n",
        "\n",
        "    # calculate additional metrics\n",
        "    TP = sum((np.array(true_labels) == 1) & (np.array(final_predicted_labels) == 1))\n",
        "    TN = sum((np.array(true_labels) == 0) & (np.array(final_predicted_labels) == 0))\n",
        "    FP = sum((np.array(true_labels) == 0) & (np.array(final_predicted_labels) == 1))\n",
        "    FN = sum((np.array(true_labels) == 1) & (np.array(final_predicted_labels) == 0))\n",
        "\n",
        "    accuracy = accuracy_score(true_labels, final_predicted_labels)\n",
        "    sensitivity = recall_score(true_labels, final_predicted_labels)  # recall\n",
        "    specificity = TN / (TN + FP)\n",
        "    precision = precision_score(true_labels, final_predicted_labels)  # PPV\n",
        "    npv = TN / (TN + FN)\n",
        "    plr = sensitivity / (1 - specificity)\n",
        "    nlr = (1 - sensitivity) / specificity\n",
        "    f1_pos_class = f1_score(true_labels, final_predicted_labels)\n",
        "\n",
        "    # ROC AUC\n",
        "    fpr, tpr, _ = roc_curve(true_labels, predicted_probs)\n",
        "    roc_auc = auc(fpr, tpr)\n",
        "\n",
        "    # create a DataFrame and append to the CSV file\n",
        "    df = pd.DataFrame({\n",
        "        'Model Name': [model_name],\n",
        "        f'Max Sensitivity at Specificity {1 - prevalence:.2f}': [max_sensitivity],\n",
        "        'AUC': [roc_auc],\n",
        "        'F1-Score Positive Class': [f1_pos_class],\n",
        "        'Accuracy': [accuracy],\n",
        "        'Sensitivity': [sensitivity],\n",
        "        'Specificity': [specificity],\n",
        "        'PPV': [precision],\n",
        "        'NPV': [npv],\n",
        "        'PLR': [plr],\n",
        "        'NLR': [nlr]\n",
        "    }).round(2)\n",
        "\n",
        "    if os.path.exists(csv_file):\n",
        "        df.to_csv(csv_file, mode='a', header=False, index=False)\n",
        "    else:\n",
        "        df.to_csv(csv_file, index=False)\n",
        "\n",
        "    print(df)\n",
        "\n",
        "    # plotting and saving ROC Curve\n",
        "    plt.figure()\n",
        "    plt.plot(fpr, tpr, color='darkorange', lw=2, label='ROC curve (area = {:.2f})'.format(roc_auc))\n",
        "    plt.plot([0, 1], [0, 1], color='navy', lw=2, linestyle='--')\n",
        "    plt.xlim([0.0, 1.0])\n",
        "    plt.ylim([0.0, 1.05])\n",
        "    plt.xlabel('False Positive Rate')\n",
        "    plt.ylabel('True Positive Rate')\n",
        "    plt.title('Receiver Operating Characteristic')\n",
        "    plt.legend(loc='lower right')\n",
        "    plt.savefig(f'{results_folder}/{model_name}_run_{timestamp}_roc_curve.png')\n",
        "    plt.show()"
      ]
    },
    {
      "cell_type": "code",
      "source": [
        "from google.colab import drive\n",
        "drive.mount('/content/drive')"
      ],
      "metadata": {
        "colab": {
          "base_uri": "https://localhost:8080/"
        },
        "id": "TSADoAO1DP7M",
        "outputId": "4ce6631c-9ab7-4c1e-e4bc-d016494277fe"
      },
      "execution_count": 10,
      "outputs": [
        {
          "output_type": "stream",
          "name": "stdout",
          "text": [
            "Mounted at /content/drive\n"
          ]
        }
      ]
    },
    {
      "cell_type": "code",
      "execution_count": 11,
      "metadata": {
        "colab": {
          "base_uri": "https://localhost:8080/"
        },
        "id": "pnaIOe8O8q7R",
        "outputId": "5527d17d-2a25-42c9-9e09-c1e169d34730"
      },
      "outputs": [
        {
          "output_type": "stream",
          "name": "stdout",
          "text": [
            "Archive:  /content/drive/MyDrive/TFM/GLCM_CIR.zip\n",
            "  inflating: /content/X_test_CIR.csv  \n",
            "  inflating: /content/X_train_CIR.csv  \n",
            "  inflating: /content/y_test_CIR.csv  \n",
            "  inflating: /content/y_train_CIR.csv  \n"
          ]
        }
      ],
      "source": [
        "!unzip \"/content/drive/MyDrive/TFM/GLCM_CIR.zip\" -d \"/content\""
      ]
    },
    {
      "cell_type": "code",
      "execution_count": 12,
      "metadata": {
        "id": "eDPffDRK8-wz"
      },
      "outputs": [],
      "source": [
        "X_train = np.loadtxt(\"/content/X_train_CIR.csv\", delimiter=\",\")\n",
        "y_train = np.loadtxt('/content/y_train_CIR.csv', delimiter=\",\")\n",
        "X_test = np.loadtxt('/content/X_test_CIR.csv', delimiter=\",\")\n",
        "y_test = np.loadtxt('/content/y_test_CIR.csv', delimiter=\",\")"
      ]
    },
    {
      "cell_type": "raw",
      "metadata": {
        "id": "NxS2Iw4UIxLH"
      },
      "source": [
        "from sklearn.utils.class_weight import compute_class_weight\n",
        "\n",
        "# Convert the labels to a NumPy array\n",
        "labels = np.array(y_train)\n",
        "\n",
        "total_samples = len(labels)\n",
        "class_labels, class_counts = np.unique(labels, return_counts=True)\n",
        "#class_weights = total_samples / (len(class_labels) * class_counts)\n",
        "class_weights = [1 - class_counts[0] / total_samples, 1 - class_counts[1] / total_samples]\n",
        "\n",
        "# Create a dictionary for class weights\n",
        "class_weights_dict = dict(zip(class_labels, class_weights))"
      ]
    },
    {
      "cell_type": "raw",
      "metadata": {
        "id": "3CRQAlNpMxv4",
        "outputId": "d5bdbe85-880e-4a5f-e48f-8c1f2257c689"
      },
      "source": [
        "class_weights_dict"
      ]
    },
    {
      "cell_type": "raw",
      "metadata": {
        "id": "Z4aHfuADOFDw",
        "outputId": "11707296-14bc-4b50-8707-adc69a35e3c2"
      },
      "source": [
        "class_weights"
      ]
    },
    {
      "cell_type": "raw",
      "metadata": {
        "id": "8DJQ_SHmI7Hb"
      },
      "source": [
        "sample_weights = [class_weights_dict[label] for label in y_train]"
      ]
    },
    {
      "cell_type": "code",
      "execution_count": 13,
      "metadata": {
        "id": "LINsBp67J_wc"
      },
      "outputs": [],
      "source": [
        "scorer = make_scorer(f1_score, pos_label=1)"
      ]
    },
    {
      "cell_type": "code",
      "execution_count": 14,
      "metadata": {
        "colab": {
          "base_uri": "https://localhost:8080/"
        },
        "id": "K25P4-dRQRxW",
        "outputId": "fcaf883b-d6c4-461c-8c44-c3f607df87a4"
      },
      "outputs": [
        {
          "output_type": "stream",
          "name": "stdout",
          "text": [
            "Best Parameters: {'C': 1, 'class_weight': None, 'gamma': 0.001, 'kernel': 'rbf'}\n",
            "Best Score: 0.0\n",
            "79.8601484298706\n"
          ]
        }
      ],
      "source": [
        "import time\n",
        "s = time.time()\n",
        "# Define the parameter grid\n",
        "param_grid = {\n",
        "    'C': [1, 10, 100, 1000, 10000],\n",
        "    'kernel': ['rbf', 'poly'],\n",
        "    'gamma': [0.001, 0.01, 0.1, 0.5],\n",
        "    'class_weight': [None, 'balanced']\n",
        "}\n",
        "\n",
        "# Create a GridSearchCV object\n",
        "grid_search = GridSearchCV(estimator=SVC(), param_grid=param_grid, cv=10, scoring=scorer)\n",
        "\n",
        "# Perform the grid search\n",
        "grid_search.fit(X_train, y_train)\n",
        "\n",
        "# Best parameters and best score\n",
        "print(\"Best Parameters:\", grid_search.best_params_)\n",
        "print(\"Best Score:\", grid_search.best_score_)\n",
        "e = time.time()\n",
        "print(e-s)"
      ]
    },
    {
      "cell_type": "code",
      "execution_count": 15,
      "metadata": {
        "id": "82vVRdt6Imbo"
      },
      "outputs": [],
      "source": [
        "best_params = grid_search.best_params_"
      ]
    },
    {
      "cell_type": "code",
      "execution_count": 16,
      "metadata": {
        "colab": {
          "base_uri": "https://localhost:8080/"
        },
        "id": "GexcH3WxBI7e",
        "outputId": "abefc2c6-d9a0-4d34-ba6a-075de15ca314"
      },
      "outputs": [
        {
          "output_type": "stream",
          "name": "stdout",
          "text": [
            "[W] [15:51:03.462356] Random state is currently ignored by probabilistic SVC\n"
          ]
        }
      ],
      "source": [
        "best_svc_clf = SVC(**best_params, probability=True, random_state=42)"
      ]
    },
    {
      "cell_type": "code",
      "execution_count": 17,
      "metadata": {
        "colab": {
          "base_uri": "https://localhost:8080/"
        },
        "id": "Bb-niJ4vBJcd",
        "outputId": "428a1a9e-d270-4f28-f3cd-b439b2986a02"
      },
      "outputs": [
        {
          "output_type": "execute_result",
          "data": {
            "text/plain": [
              "SVC()"
            ]
          },
          "metadata": {},
          "execution_count": 17
        }
      ],
      "source": [
        "best_svc_clf.fit(X_train, y_train)"
      ]
    },
    {
      "cell_type": "code",
      "execution_count": 18,
      "metadata": {
        "colab": {
          "base_uri": "https://localhost:8080/",
          "height": 1000
        },
        "id": "cvdms_aoQXpp",
        "outputId": "fade0922-02c7-4d28-f4f4-4835a84db35c"
      },
      "outputs": [
        {
          "output_type": "stream",
          "name": "stdout",
          "text": [
            "Max Sensitivity at Specificity >= 0.94: 0.10\n"
          ]
        },
        {
          "output_type": "display_data",
          "data": {
            "text/plain": [
              "<Figure size 800x800 with 2 Axes>"
            ],
            "image/png": "[encoded data removed]"
          },
          "metadata": {}
        },
        {
          "output_type": "stream",
          "name": "stdout",
          "text": [
            "              precision    recall  f1-score   support\n",
            "\n",
            "         0.0       0.93      0.94      0.94       304\n",
            "         1.0       0.06      0.05      0.05        21\n",
            "\n",
            "    accuracy                           0.89       325\n",
            "   macro avg       0.50      0.50      0.50       325\n",
            "weighted avg       0.88      0.89      0.88       325\n",
            "\n",
            "     Model Name  Max Sensitivity at Specificity 0.94   AUC  \\\n",
            "0  CIR-SVC-poly                                  0.1  0.63   \n",
            "\n",
            "   F1-Score Positive Class  Accuracy  Sensitivity  Specificity   PPV   NPV  \\\n",
            "0                     0.05      0.89         0.05         0.94  0.06  0.93   \n",
            "\n",
            "    PLR   NLR  \n",
            "0  0.85  1.01  \n"
          ]
        },
        {
          "output_type": "display_data",
          "data": {
            "text/plain": [
              "<Figure size 640x480 with 1 Axes>"
            ],
            "image/png": "[encoded data removed]"
          },
          "metadata": {}
        }
      ],
      "source": [
        "get_model_metrics(test_data=[X_test,y_test], model=best_svc_clf, model_name='CIR-SVC-poly')"
      ]
    },
    {
      "cell_type": "code",
      "execution_count": 19,
      "metadata": {
        "colab": {
          "base_uri": "https://localhost:8080/"
        },
        "id": "YB33xrVZQXrw",
        "outputId": "1f1ea2da-3577-40b6-d63b-aeebf9d821ac"
      },
      "outputs": [
        {
          "output_type": "stream",
          "name": "stdout",
          "text": [
            "Best Parameters: {'C': 1000, 'class_weight': None}\n",
            "Best Score: 0.012121212121212121\n",
            "74.11042094230652\n"
          ]
        }
      ],
      "source": [
        "import time\n",
        "from sklearn.svm import LinearSVC\n",
        "import warnings\n",
        "warnings.filterwarnings('ignore')\n",
        "\n",
        "s = time.time()\n",
        "# Define the parameter grid\n",
        "param_grid = {\n",
        "    'C': [1, 10, 100, 1000, 10000],\n",
        "    'class_weight': [None, 'balanced']\n",
        "}\n",
        "\n",
        "# Create a GridSearchCV object\n",
        "grid_search = GridSearchCV(estimator=LinearSVC(), param_grid=param_grid, cv=10, scoring=scorer)\n",
        "\n",
        "# Perform the grid search\n",
        "grid_search.fit(X_train, y_train)\n",
        "\n",
        "# Best parameters and best score\n",
        "print(\"Best Parameters:\", grid_search.best_params_)\n",
        "print(\"Best Score:\", grid_search.best_score_)\n",
        "e = time.time()\n",
        "print(e-s)\n"
      ]
    },
    {
      "cell_type": "code",
      "execution_count": 20,
      "metadata": {
        "id": "BJOEatLyjs-E"
      },
      "outputs": [],
      "source": [
        "best_params = grid_search.best_params_"
      ]
    },
    {
      "cell_type": "code",
      "execution_count": 21,
      "metadata": {
        "colab": {
          "base_uri": "https://localhost:8080/"
        },
        "id": "eqX0tSmqjtAw",
        "outputId": "85fa875e-d4b9-45aa-da90-68ee4730fdcc"
      },
      "outputs": [
        {
          "output_type": "stream",
          "name": "stdout",
          "text": [
            "[W] [15:52:18.667700] Random state is currently ignored by probabilistic SVC\n"
          ]
        }
      ],
      "source": [
        "best_svc_clf = SVC(**best_params, probability=True, random_state=42)"
      ]
    },
    {
      "cell_type": "code",
      "execution_count": 22,
      "metadata": {
        "colab": {
          "base_uri": "https://localhost:8080/"
        },
        "id": "PtpoOR6XjtDT",
        "outputId": "acf0c99b-a4d9-4e52-864c-69834dda0b65"
      },
      "outputs": [
        {
          "output_type": "execute_result",
          "data": {
            "text/plain": [
              "SVC()"
            ]
          },
          "metadata": {},
          "execution_count": 22
        }
      ],
      "source": [
        "best_svc_clf.fit(X_train, y_train)"
      ]
    },
    {
      "cell_type": "code",
      "execution_count": 23,
      "metadata": {
        "colab": {
          "base_uri": "https://localhost:8080/",
          "height": 1000
        },
        "id": "QRbpdJAXjtF8",
        "outputId": "7f8cd923-97f4-41b5-d70d-2894d8426fc7"
      },
      "outputs": [
        {
          "output_type": "stream",
          "name": "stdout",
          "text": [
            "Max Sensitivity at Specificity >= 0.94: 0.14\n"
          ]
        },
        {
          "output_type": "display_data",
          "data": {
            "text/plain": [
              "<Figure size 800x800 with 2 Axes>"
            ],
            "image/png": "[encoded data removed]"
          },
          "metadata": {}
        },
        {
          "output_type": "stream",
          "name": "stdout",
          "text": [
            "              precision    recall  f1-score   support\n",
            "\n",
            "         0.0       0.94      0.95      0.95       304\n",
            "         1.0       0.12      0.10      0.11        21\n",
            "\n",
            "    accuracy                           0.90       325\n",
            "   macro avg       0.53      0.52      0.53       325\n",
            "weighted avg       0.89      0.90      0.89       325\n",
            "\n",
            "       Model Name  Max Sensitivity at Specificity 0.94   AUC  \\\n",
            "0  CIR-SVC-linear                                 0.14  0.56   \n",
            "\n",
            "   F1-Score Positive Class  Accuracy  Sensitivity  Specificity   PPV   NPV  \\\n",
            "0                     0.11       0.9          0.1         0.95  0.12  0.94   \n",
            "\n",
            "    PLR   NLR  \n",
            "0  2.07  0.95  \n"
          ]
        },
        {
          "output_type": "display_data",
          "data": {
            "text/plain": [
              "<Figure size 640x480 with 1 Axes>"
            ],
            "image/png": "[encoded data removed]"
          },
          "metadata": {}
        }
      ],
      "source": [
        "get_model_metrics(test_data=[X_test,y_test], model=best_svc_clf, model_name='CIR-SVC-linear')"
      ]
    },
    {
      "cell_type": "code",
      "execution_count": 23,
      "metadata": {
        "id": "DuzYU2Wjj466"
      },
      "outputs": [],
      "source": []
    }
  ],
  "metadata": {
    "accelerator": "GPU",
    "colab": {
      "gpuType": "V100",
      "provenance": []
    },
    "kernelspec": {
      "display_name": "Python 3",
      "name": "python3"
    },
    "language_info": {
      "codemirror_mode": {
        "name": "ipython",
        "version": 3
      },
      "file_extension": ".py",
      "mimetype": "text/x-python",
      "name": "python",
      "nbconvert_exporter": "python",
      "pygments_lexer": "ipython3",
      "version": "3.7.6"
    }
  },
  "nbformat": 4,
  "nbformat_minor": 0
}