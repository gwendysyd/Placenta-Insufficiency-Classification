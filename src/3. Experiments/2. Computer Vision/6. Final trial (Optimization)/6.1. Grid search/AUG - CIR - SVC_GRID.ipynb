{
  "cells": [
    {
      "cell_type": "code",
      "execution_count": 1,
      "metadata": {
        "colab": {
          "base_uri": "https://localhost:8080/"
        },
        "id": "2EmFRckc7TrQ",
        "outputId": "d2cb119b-6d2c-44d9-bde9-f6152245a7b0"
      },
      "outputs": [
        {
          "name": "stdout",
          "output_type": "stream",
          "text": [
            "Fri Dec 15 13:15:15 2023       \n",
            "+---------------------------------------------------------------------------------------+\n",
            "| NVIDIA-SMI 535.104.05             Driver Version: 535.104.05   CUDA Version: 12.2     |\n",
            "|-----------------------------------------+----------------------+----------------------+\n",
            "| GPU  Name                 Persistence-M | Bus-Id        Disp.A | Volatile Uncorr. ECC |\n",
            "| Fan  Temp   Perf          Pwr:Usage/Cap |         Memory-Usage | GPU-Util  Compute M. |\n",
            "|                                         |                      |               MIG M. |\n",
            "|=========================================+======================+======================|\n",
            "|   0  Tesla V100-SXM2-16GB           Off | 00000000:00:04.0 Off |                    0 |\n",
            "| N/A   34C    P0              24W / 300W |      0MiB / 16384MiB |      0%      Default |\n",
            "|                                         |                      |                  N/A |\n",
            "+-----------------------------------------+----------------------+----------------------+\n",
            "                                                                                         \n",
            "+---------------------------------------------------------------------------------------+\n",
            "| Processes:                                                                            |\n",
            "|  GPU   GI   CI        PID   Type   Process name                            GPU Memory |\n",
            "|        ID   ID                                                             Usage      |\n",
            "|=======================================================================================|\n",
            "|  No running processes found                                                           |\n",
            "+---------------------------------------------------------------------------------------+\n"
          ]
        }
      ],
      "source": [
        "!nvidia-smi"
      ]
    },
    {
      "cell_type": "code",
      "execution_count": 2,
      "metadata": {
        "colab": {
          "base_uri": "https://localhost:8080/"
        },
        "id": "NIj2gR3LnMDF",
        "outputId": "be2a3d31-eb8a-4f88-9277-793fc28c80bc"
      },
      "outputs": [
        {
          "name": "stdout",
          "output_type": "stream",
          "text": [
            "nvcc: NVIDIA (R) Cuda compiler driver\n",
            "Copyright (c) 2005-2023 NVIDIA Corporation\n",
            "Built on Tue_Aug_15_22:02:13_PDT_2023\n",
            "Cuda compilation tools, release 12.2, V12.2.140\n",
            "Build cuda_12.2.r12.2/compiler.33191640_0\n"
          ]
        }
      ],
      "source": [
        "!nvcc --version\n"
      ]
    },
    {
      "cell_type": "code",
      "execution_count": 22,
      "metadata": {
        "id": "bTAN2yMc7V9E"
      },
      "outputs": [],
      "source": [
        "# This get the RAPIDS-Colab install files and test check your GPU.  Run this and the next cell only.\n",
        "# Please read the output of this cell.  If your Colab Instance is not RAPIDS compatible, it will warn you and give you remediation steps.\n",
        "#!git clone https://github.com/rapidsai/rapidsai-csp-utils.git\n",
        "#!python rapidsai-csp-utils/colab/pip-install.py"
      ]
    },
    {
      "cell_type": "code",
      "execution_count": null,
      "metadata": {
        "id": "00HLPxJ8qP4x"
      },
      "outputs": [],
      "source": [
        "#pip install cudf-cu11==23.04 cuml-cu11==23.04 cugraph-cu11==23.04 cucim --extra-index-url=https://pypi.nvidia.com"
      ]
    },
    {
      "cell_type": "code",
      "execution_count": 5,
      "metadata": {
        "colab": {
          "base_uri": "https://localhost:8080/",
          "height": 1000
        },
        "id": "91iRJTLfF_Bt",
        "outputId": "1e47dfc9-f6f7-4cda-8094-1527df7cda1f"
      },
      "outputs": [
        {
          "name": "stdout",
          "output_type": "stream",
          "text": [
            "Looking in indexes: https://pypi.org/simple, https://pypi.nvidia.com\n",
            "Collecting cudf-cu12==23.6.0\n",
            "  Downloading https://pypi.nvidia.com/cudf-cu12/cudf_cu12-23.6.0-cp310-cp310-manylinux_2_17_x86_64.manylinux2014_x86_64.whl (493.3 MB)\n",
            "\u001b[2K     \u001b[90m━━━━━━━━━━━━━━━━━━━━━━━━━━━━━━━━━━━━━━━━\u001b[0m \u001b[32m493.3/493.3 MB\u001b[0m \u001b[31m2.0 MB/s\u001b[0m eta \u001b[36m0:00:00\u001b[0m\n",
            "\u001b[?25hCollecting cuml-cu12==23.6.0\n",
            "  Downloading https://pypi.nvidia.com/cuml-cu12/cuml_cu12-23.6.0-cp310-cp310-manylinux_2_17_x86_64.manylinux2014_x86_64.whl (959.1 MB)\n",
            "\u001b[2K     \u001b[90m━━━━━━━━━━━━━━━━━━━━━━━━━━━━━━━━━━━━━━━━\u001b[0m \u001b[32m959.1/959.1 MB\u001b[0m \u001b[31m1.0 MB/s\u001b[0m eta \u001b[36m0:00:00\u001b[0m\n",
            "\u001b[?25hCollecting cugraph-cu12==23.6.0\n",
            "  Downloading https://pypi.nvidia.com/cugraph-cu12/cugraph_cu12-23.6.0-cp310-cp310-manylinux_2_17_x86_64.manylinux2014_x86_64.whl (1133.9 MB)\n",
            "\u001b[2K     \u001b[90m━━━━━━━━━━━━━━━━━━━━━━━━━━━━━━━━━━━━━━━━\u001b[0m \u001b[32m1.1/1.1 GB\u001b[0m \u001b[31m705.5 kB/s\u001b[0m eta \u001b[36m0:00:00\u001b[0m\n",
            "\u001b[?25hRequirement already satisfied: cucim in /usr/local/lib/python3.10/dist-packages (23.10.0)\n",
            "Requirement already satisfied: cachetools in /usr/local/lib/python3.10/dist-packages (from cudf-cu12==23.6.0) (5.3.2)\n",
            "Collecting cuda-python<13.0,>=12.0 (from cudf-cu12==23.6.0)\n",
            "  Downloading cuda_python-12.3.0-cp310-cp310-manylinux_2_17_x86_64.manylinux2014_x86_64.whl (23.6 MB)\n",
            "\u001b[2K     \u001b[90m━━━━━━━━━━━━━━━━━━━━━━━━━━━━━━━━━━━━━━━━\u001b[0m \u001b[32m23.6/23.6 MB\u001b[0m \u001b[31m54.5 MB/s\u001b[0m eta \u001b[36m0:00:00\u001b[0m\n",
            "\u001b[?25hCollecting cupy-cuda12x>=12.0.0 (from cudf-cu12==23.6.0)\n",
            "  Downloading cupy_cuda12x-12.3.0-cp310-cp310-manylinux2014_x86_64.whl (81.8 MB)\n",
            "\u001b[2K     \u001b[90m━━━━━━━━━━━━━━━━━━━━━━━━━━━━━━━━━━━━━━━━\u001b[0m \u001b[32m81.8/81.8 MB\u001b[0m \u001b[31m9.6 MB/s\u001b[0m eta \u001b[36m0:00:00\u001b[0m\n",
            "\u001b[?25hRequirement already satisfied: fsspec>=0.6.0 in /usr/local/lib/python3.10/dist-packages (from cudf-cu12==23.6.0) (2023.6.0)\n",
            "Collecting numba>=0.57 (from cudf-cu12==23.6.0)\n",
            "  Downloading numba-0.58.1-cp310-cp310-manylinux2014_x86_64.manylinux_2_17_x86_64.whl (3.6 MB)\n",
            "\u001b[2K     \u001b[90m━━━━━━━━━━━━━━━━━━━━━━━━━━━━━━━━━━━━━━━━\u001b[0m \u001b[32m3.6/3.6 MB\u001b[0m \u001b[31m52.7 MB/s\u001b[0m eta \u001b[36m0:00:00\u001b[0m\n",
            "\u001b[?25hRequirement already satisfied: numpy>=1.21 in /usr/local/lib/python3.10/dist-packages (from cudf-cu12==23.6.0) (1.23.5)\n",
            "Requirement already satisfied: nvtx>=0.2.1 in /usr/local/lib/python3.10/dist-packages (from cudf-cu12==23.6.0) (0.2.8)\n",
            "Requirement already satisfied: packaging in /usr/local/lib/python3.10/dist-packages (from cudf-cu12==23.6.0) (23.2)\n",
            "Requirement already satisfied: pandas<1.6.0dev0,>=1.3 in /usr/local/lib/python3.10/dist-packages (from cudf-cu12==23.6.0) (1.5.3)\n",
            "Requirement already satisfied: protobuf<4.22,>=4.21.6 in /usr/local/lib/python3.10/dist-packages (from cudf-cu12==23.6.0) (4.21.12)\n",
            "Collecting pyarrow==11.* (from cudf-cu12==23.6.0)\n",
            "  Downloading pyarrow-11.0.0-cp310-cp310-manylinux_2_17_x86_64.manylinux2014_x86_64.whl (34.9 MB)\n",
            "\u001b[2K     \u001b[90m━━━━━━━━━━━━━━━━━━━━━━━━━━━━━━━━━━━━━━━━\u001b[0m \u001b[32m34.9/34.9 MB\u001b[0m \u001b[31m33.6 MB/s\u001b[0m eta \u001b[36m0:00:00\u001b[0m\n",
            "\u001b[?25hCollecting rmm-cu12==23.6.* (from cudf-cu12==23.6.0)\n",
            "  Downloading https://pypi.nvidia.com/rmm-cu12/rmm_cu12-23.6.0-cp310-cp310-manylinux_2_17_x86_64.manylinux2014_x86_64.whl (1.7 MB)\n",
            "\u001b[2K     \u001b[90m━━━━━━━━━━━━━━━━━━━━━━━━━━━━━━━━━━━━━━━━\u001b[0m \u001b[32m1.7/1.7 MB\u001b[0m \u001b[31m23.0 MB/s\u001b[0m eta \u001b[36m0:00:00\u001b[0m\n",
            "\u001b[?25hRequirement already satisfied: typing-extensions in /usr/local/lib/python3.10/dist-packages (from cudf-cu12==23.6.0) (4.5.0)\n",
            "Collecting dask-cuda==23.6.* (from cuml-cu12==23.6.0)\n",
            "  Downloading dask_cuda-23.6.0-py3-none-any.whl (125 kB)\n",
            "\u001b[2K     \u001b[90m━━━━━━━━━━━━━━━━━━━━━━━━━━━━━━━━━━━━━━━━\u001b[0m \u001b[32m125.2/125.2 kB\u001b[0m \u001b[31m17.1 MB/s\u001b[0m eta \u001b[36m0:00:00\u001b[0m\n",
            "\u001b[?25hCollecting dask-cudf-cu12==23.6.* (from cuml-cu12==23.6.0)\n",
            "  Downloading https://pypi.nvidia.com/dask-cudf-cu12/dask_cudf_cu12-23.6.0-py3-none-any.whl (79 kB)\n",
            "\u001b[2K     \u001b[90m━━━━━━━━━━━━━━━━━━━━━━━━━━━━━━━━━━━━━━━━\u001b[0m \u001b[32m79.6/79.6 kB\u001b[0m \u001b[31m11.8 MB/s\u001b[0m eta \u001b[36m0:00:00\u001b[0m\n",
            "\u001b[?25hRequirement already satisfied: dask==2023.3.2 in /usr/local/lib/python3.10/dist-packages (from cuml-cu12==23.6.0) (2023.3.2)\n",
            "Requirement already satisfied: distributed==2023.3.2.1 in /usr/local/lib/python3.10/dist-packages (from cuml-cu12==23.6.0) (2023.3.2.1)\n",
            "Requirement already satisfied: joblib>=0.11 in /usr/local/lib/python3.10/dist-packages (from cuml-cu12==23.6.0) (1.3.2)\n",
            "Collecting raft-dask-cu12==23.6.* (from cuml-cu12==23.6.0)\n",
            "  Downloading https://pypi.nvidia.com/raft-dask-cu12/raft_dask_cu12-23.6.2-cp310-cp310-manylinux_2_17_x86_64.manylinux2014_x86_64.whl (212.4 MB)\n",
            "\u001b[2K     \u001b[90m━━━━━━━━━━━━━━━━━━━━━━━━━━━━━━━━━━━━━━━━\u001b[0m \u001b[32m212.4/212.4 MB\u001b[0m \u001b[31m2.6 MB/s\u001b[0m eta \u001b[36m0:00:00\u001b[0m\n",
            "\u001b[?25hRequirement already satisfied: scipy in /usr/local/lib/python3.10/dist-packages (from cuml-cu12==23.6.0) (1.11.4)\n",
            "Requirement already satisfied: treelite==3.2.0 in /usr/local/lib/python3.10/dist-packages (from cuml-cu12==23.6.0) (3.2.0)\n",
            "Requirement already satisfied: treelite-runtime==3.2.0 in /usr/local/lib/python3.10/dist-packages (from cuml-cu12==23.6.0) (3.2.0)\n",
            "Collecting pylibcugraph-cu12==23.6.* (from cugraph-cu12==23.6.0)\n",
            "  Downloading https://pypi.nvidia.com/pylibcugraph-cu12/pylibcugraph_cu12-23.6.2-cp310-cp310-manylinux_2_17_x86_64.manylinux2014_x86_64.whl (1134.6 MB)\n",
            "\u001b[2K     \u001b[90m━━━━━━━━━━━━━━━━━━━━━━━━━━━━━━━━━━━━━━━━\u001b[0m \u001b[32m1.1/1.1 GB\u001b[0m \u001b[31m1.2 MB/s\u001b[0m eta \u001b[36m0:00:00\u001b[0m\n",
            "\u001b[?25hCollecting ucx-py-cu12==0.32.* (from cugraph-cu12==23.6.0)\n",
            "  Downloading https://pypi.nvidia.com/ucx-py-cu12/ucx_py_cu12-0.32.0-cp310-cp310-manylinux_2_17_x86_64.manylinux2014_x86_64.whl (7.9 MB)\n",
            "\u001b[2K     \u001b[90m━━━━━━━━━━━━━━━━━━━━━━━━━━━━━━━━━━━━━━━━\u001b[0m \u001b[32m7.9/7.9 MB\u001b[0m \u001b[31m7.7 MB/s\u001b[0m eta \u001b[36m0:00:00\u001b[0m\n",
            "\u001b[?25hRequirement already satisfied: click>=7.0 in /usr/local/lib/python3.10/dist-packages (from dask==2023.3.2->cuml-cu12==23.6.0) (8.1.7)\n",
            "Requirement already satisfied: cloudpickle>=1.1.1 in /usr/local/lib/python3.10/dist-packages (from dask==2023.3.2->cuml-cu12==23.6.0) (2.2.1)\n",
            "Requirement already satisfied: partd>=1.2.0 in /usr/local/lib/python3.10/dist-packages (from dask==2023.3.2->cuml-cu12==23.6.0) (1.4.1)\n",
            "Requirement already satisfied: pyyaml>=5.3.1 in /usr/local/lib/python3.10/dist-packages (from dask==2023.3.2->cuml-cu12==23.6.0) (6.0.1)\n",
            "Requirement already satisfied: toolz>=0.8.2 in /usr/local/lib/python3.10/dist-packages (from dask==2023.3.2->cuml-cu12==23.6.0) (0.12.0)\n",
            "Requirement already satisfied: importlib-metadata>=4.13.0 in /usr/local/lib/python3.10/dist-packages (from dask==2023.3.2->cuml-cu12==23.6.0) (7.0.0)\n",
            "Requirement already satisfied: pynvml<11.5,>=11.0.0 in /usr/local/lib/python3.10/dist-packages (from dask-cuda==23.6.*->cuml-cu12==23.6.0) (11.4.1)\n",
            "Requirement already satisfied: zict>=2.0.0 in /usr/local/lib/python3.10/dist-packages (from dask-cuda==23.6.*->cuml-cu12==23.6.0) (3.0.0)\n",
            "Requirement already satisfied: jinja2>=2.10.3 in /usr/local/lib/python3.10/dist-packages (from distributed==2023.3.2.1->cuml-cu12==23.6.0) (3.1.2)\n",
            "Requirement already satisfied: locket>=1.0.0 in /usr/local/lib/python3.10/dist-packages (from distributed==2023.3.2.1->cuml-cu12==23.6.0) (1.0.0)\n",
            "Requirement already satisfied: msgpack>=1.0.0 in /usr/local/lib/python3.10/dist-packages (from distributed==2023.3.2.1->cuml-cu12==23.6.0) (1.0.7)\n",
            "Requirement already satisfied: psutil>=5.7.0 in /usr/local/lib/python3.10/dist-packages (from distributed==2023.3.2.1->cuml-cu12==23.6.0) (5.9.5)\n",
            "Requirement already satisfied: sortedcontainers>=2.0.5 in /usr/local/lib/python3.10/dist-packages (from distributed==2023.3.2.1->cuml-cu12==23.6.0) (2.4.0)\n",
            "Requirement already satisfied: tblib>=1.6.0 in /usr/local/lib/python3.10/dist-packages (from distributed==2023.3.2.1->cuml-cu12==23.6.0) (3.0.0)\n",
            "Requirement already satisfied: tornado>=6.0.3 in /usr/local/lib/python3.10/dist-packages (from distributed==2023.3.2.1->cuml-cu12==23.6.0) (6.3.2)\n",
            "Requirement already satisfied: urllib3>=1.24.3 in /usr/local/lib/python3.10/dist-packages (from distributed==2023.3.2.1->cuml-cu12==23.6.0) (2.0.7)\n",
            "Collecting pylibraft-cu12==23.6.* (from pylibcugraph-cu12==23.6.*->cugraph-cu12==23.6.0)\n",
            "  Downloading https://pypi.nvidia.com/pylibraft-cu12/pylibraft_cu12-23.6.2-cp310-cp310-manylinux_2_17_x86_64.manylinux2014_x86_64.whl (446.4 MB)\n",
            "\u001b[2K     \u001b[90m━━━━━━━━━━━━━━━━━━━━━━━━━━━━━━━━━━━━━━━━\u001b[0m \u001b[32m446.4/446.4 MB\u001b[0m \u001b[31m2.9 MB/s\u001b[0m eta \u001b[36m0:00:00\u001b[0m\n",
            "\u001b[?25hRequirement already satisfied: lazy-loader>=0.1 in /usr/local/lib/python3.10/dist-packages (from cucim) (0.3)\n",
            "Requirement already satisfied: fastrlock>=0.5 in /usr/local/lib/python3.10/dist-packages (from cupy-cuda12x>=12.0.0->cudf-cu12==23.6.0) (0.8.2)\n",
            "Collecting llvmlite<0.42,>=0.41.0dev0 (from numba>=0.57->cudf-cu12==23.6.0)\n",
            "  Downloading llvmlite-0.41.1-cp310-cp310-manylinux_2_17_x86_64.manylinux2014_x86_64.whl (43.6 MB)\n",
            "\u001b[2K     \u001b[90m━━━━━━━━━━━━━━━━━━━━━━━━━━━━━━━━━━━━━━━━\u001b[0m \u001b[32m43.6/43.6 MB\u001b[0m \u001b[31m13.5 MB/s\u001b[0m eta \u001b[36m0:00:00\u001b[0m\n",
            "\u001b[?25hRequirement already satisfied: python-dateutil>=2.8.1 in /usr/local/lib/python3.10/dist-packages (from pandas<1.6.0dev0,>=1.3->cudf-cu12==23.6.0) (2.8.2)\n",
            "Requirement already satisfied: pytz>=2020.1 in /usr/local/lib/python3.10/dist-packages (from pandas<1.6.0dev0,>=1.3->cudf-cu12==23.6.0) (2023.3.post1)\n",
            "Requirement already satisfied: zipp>=0.5 in /usr/local/lib/python3.10/dist-packages (from importlib-metadata>=4.13.0->dask==2023.3.2->cuml-cu12==23.6.0) (3.17.0)\n",
            "Requirement already satisfied: MarkupSafe>=2.0 in /usr/local/lib/python3.10/dist-packages (from jinja2>=2.10.3->distributed==2023.3.2.1->cuml-cu12==23.6.0) (2.1.3)\n",
            "Requirement already satisfied: six>=1.5 in /usr/local/lib/python3.10/dist-packages (from python-dateutil>=2.8.1->pandas<1.6.0dev0,>=1.3->cudf-cu12==23.6.0) (1.16.0)\n",
            "Installing collected packages: cuda-python, ucx-py-cu12, pyarrow, llvmlite, cupy-cuda12x, numba, rmm-cu12, pylibraft-cu12, dask-cuda, cudf-cu12, raft-dask-cu12, pylibcugraph-cu12, dask-cudf-cu12, cuml-cu12, cugraph-cu12\n",
            "  Attempting uninstall: cuda-python\n",
            "    Found existing installation: cuda-python 11.8.3\n",
            "    Uninstalling cuda-python-11.8.3:\n",
            "      Successfully uninstalled cuda-python-11.8.3\n",
            "  Attempting uninstall: pyarrow\n",
            "    Found existing installation: pyarrow 10.0.1\n",
            "    Uninstalling pyarrow-10.0.1:\n",
            "      Successfully uninstalled pyarrow-10.0.1\n",
            "  Attempting uninstall: llvmlite\n",
            "    Found existing installation: llvmlite 0.39.1\n",
            "    Uninstalling llvmlite-0.39.1:\n",
            "      Successfully uninstalled llvmlite-0.39.1\n",
            "  Attempting uninstall: numba\n",
            "    Found existing installation: numba 0.56.4\n",
            "    Uninstalling numba-0.56.4:\n",
            "      Successfully uninstalled numba-0.56.4\n",
            "  Attempting uninstall: dask-cuda\n",
            "    Found existing installation: dask-cuda 23.4.0\n",
            "    Uninstalling dask-cuda-23.4.0:\n",
            "      Successfully uninstalled dask-cuda-23.4.0\n",
            "\u001b[31mERROR: pip's dependency resolver does not currently take into account all the packages that are installed. This behaviour is the source of the following dependency conflicts.\n",
            "cudf-cu11 23.4.0 requires cuda-python<12.0,>=11.7.1, but you have cuda-python 12.3.0 which is incompatible.\n",
            "cudf-cu11 23.4.0 requires numba<0.57,>=0.56.4, but you have numba 0.58.1 which is incompatible.\n",
            "cudf-cu11 23.4.0 requires pyarrow==10.*, but you have pyarrow 11.0.0 which is incompatible.\n",
            "cugraph-cu11 23.4.0 requires cuda-python<12.0,>=11.7.1, but you have cuda-python 12.3.0 which is incompatible.\n",
            "cugraph-cu11 23.4.0 requires dask-cuda==23.4.*, but you have dask-cuda 23.6.0 which is incompatible.\n",
            "cuml-cu11 23.4.0 requires dask-cuda==23.4.*, but you have dask-cuda 23.6.0 which is incompatible.\n",
            "cuspatial-cu11 23.10.0 requires cudf-cu11==23.10.*, but you have cudf-cu11 23.4.0 which is incompatible.\n",
            "cuspatial-cu11 23.10.0 requires rmm-cu11==23.10.*, but you have rmm-cu11 23.4.1 which is incompatible.\n",
            "cuxfilter-cu11 23.10.0 requires cudf-cu11==23.10.*, but you have cudf-cu11 23.4.0 which is incompatible.\n",
            "cuxfilter-cu11 23.10.0 requires cupy-cuda11x>=12.0.0, but you have cupy-cuda11x 11.6.0 which is incompatible.\n",
            "cuxfilter-cu11 23.10.0 requires dask-cudf-cu11==23.10.*, but you have dask-cudf-cu11 23.4.1 which is incompatible.\n",
            "pylibraft-cu11 23.4.1 requires cuda-python<12.0,>=11.7.1, but you have cuda-python 12.3.0 which is incompatible.\n",
            "raft-dask-cu11 23.4.1 requires dask-cuda==23.4.*, but you have dask-cuda 23.6.0 which is incompatible.\n",
            "rmm-cu11 23.4.1 requires cuda-python<12.0,>=11.7.1, but you have cuda-python 12.3.0 which is incompatible.\u001b[0m\u001b[31m\n",
            "\u001b[0mSuccessfully installed cuda-python-12.3.0 cudf-cu12-23.6.0 cugraph-cu12-23.6.0 cuml-cu12-23.6.0 cupy-cuda12x-12.3.0 dask-cuda-23.6.0 dask-cudf-cu12-23.6.0 llvmlite-0.41.1 numba-0.58.1 pyarrow-11.0.0 pylibcugraph-cu12-23.6.2 pylibraft-cu12-23.6.2 raft-dask-cu12-23.6.2 rmm-cu12-23.6.0 ucx-py-cu12-0.32.0\n"
          ]
        },
        {
          "data": {
            "application/vnd.colab-display-data+json": {
              "pip_warning": {
                "packages": [
                  "cuda",
                  "llvmlite",
                  "numba",
                  "rmm"
                ]
              }
            }
          },
          "metadata": {},
          "output_type": "display_data"
        }
      ],
      "source": [
        "pip install cudf-cu12==23.6.0 cuml-cu12==23.6.0 cugraph-cu12==23.6.0 cucim --extra-index-url=https://pypi.nvidia.com"
      ]
    },
    {
      "cell_type": "code",
      "execution_count": null,
      "metadata": {
        "id": "3EnsuU9EHJrI"
      },
      "outputs": [],
      "source": [
        "#!nvcc --version"
      ]
    },
    {
      "cell_type": "code",
      "execution_count": 3,
      "metadata": {
        "id": "mN4McnuK0QRv"
      },
      "outputs": [],
      "source": [
        "import cuml\n",
        "import numpy as np\n",
        "from cuml.svm import SVC\n",
        "from cuml.svm import LinearSVC\n",
        "from cuml.model_selection import train_test_split, GridSearchCV\n",
        "from sklearn.datasets import make_classification"
      ]
    },
    {
      "cell_type": "code",
      "execution_count": 15,
      "metadata": {
        "id": "DlRVRaW-8aWm"
      },
      "outputs": [],
      "source": [
        "import pandas as pd\n",
        "import os\n",
        "import cv2\n",
        "import numpy as np\n",
        "\n",
        "from skimage.feature import graycomatrix, graycoprops\n",
        "from sklearn.metrics import make_scorer, f1_score\n",
        "\n",
        "from datetime import datetime\n",
        "import time\n",
        "\n",
        "from sklearn.metrics import confusion_matrix, classification_report, roc_auc_score, roc_curve, auc, accuracy_score, f1_score, recall_score, precision_score\n",
        "import seaborn as sns\n",
        "import matplotlib.pyplot as plt"
      ]
    },
    {
      "cell_type": "code",
      "execution_count": 5,
      "metadata": {
        "id": "M5scwRX18dW2"
      },
      "outputs": [],
      "source": [
        "def get_model_metrics(test_data, model, model_name):\n",
        "    '''''''''\n",
        "    Get binary classification metrics for a given model and saves the results to local directory\n",
        "    '''''''''\n",
        "    timestamp = datetime.now().strftime(\"%Y%m%d%H%M%S\")\n",
        "    results_folder = 'results'\n",
        "    csv_file = f'{results_folder}/model_performance.csv'\n",
        "\n",
        "    if not os.path.exists(results_folder):\n",
        "        os.makedirs(results_folder)\n",
        "\n",
        "    predicted_probs = model.predict_proba(test_data[0])\n",
        "    predicted_probs = predicted_probs[:, 1]\n",
        "    true_labels = test_data[1]\n",
        "    predicted_labels = model.predict(test_data[0])\n",
        "\n",
        "    # determine the best threshold\n",
        "    thresholds = np.linspace(0, 1, 100)\n",
        "    best_f1 = 0\n",
        "    best_threshold = 0.5\n",
        "    for thresh in thresholds:\n",
        "        predicted_labels = [1 if p > thresh else 0 for p in predicted_probs]\n",
        "        f1 = f1_score(true_labels, predicted_labels)\n",
        "        if f1 > best_f1:\n",
        "            best_f1 = f1\n",
        "            best_threshold = thresh\n",
        "\n",
        "    print(f\"Best threshold: {best_threshold:.2f} with F1-score: {best_f1:.2f}\")\n",
        "\n",
        "    # recalculate predictions with the best threshold\n",
        "    final_predicted_labels = [1 if p > best_threshold else 0 for p in predicted_probs]\n",
        "\n",
        "    # Confusion Matrix\n",
        "    confusion_mtx = confusion_matrix(true_labels, final_predicted_labels)\n",
        "    # plot the confusion matrix\n",
        "    f,ax = plt.subplots(figsize=(8, 8))\n",
        "    sns.heatmap(confusion_mtx, annot=True, linewidths=0.01,cmap=\"Purples\",linecolor=\"gray\", fmt= '.1f',ax=ax)\n",
        "    plt.xlabel(\"Predicted Label\")\n",
        "    plt.ylabel(\"True Label\")\n",
        "    plt.title(\"Confusion Matrix\")\n",
        "    plt.savefig(f'{results_folder}/{model_name}_run_{timestamp}_confusion_matrix.png')\n",
        "    plt.show()\n",
        "\n",
        "    # Classification report\n",
        "    report = classification_report(true_labels, final_predicted_labels)\n",
        "    print(report)\n",
        "\n",
        "    # calculate additional metrics\n",
        "    TP = sum((np.array(true_labels) == 1) & (np.array(final_predicted_labels) == 1))\n",
        "    TN = sum((np.array(true_labels) == 0) & (np.array(final_predicted_labels) == 0))\n",
        "    FP = sum((np.array(true_labels) == 0) & (np.array(final_predicted_labels) == 1))\n",
        "    FN = sum((np.array(true_labels) == 1) & (np.array(final_predicted_labels) == 0))\n",
        "\n",
        "    accuracy = accuracy_score(true_labels, final_predicted_labels)\n",
        "    sensitivity = recall_score(true_labels, final_predicted_labels)  # recall\n",
        "    specificity = TN / (TN + FP)\n",
        "    precision = precision_score(true_labels, final_predicted_labels)  # PPV\n",
        "    npv = TN / (TN + FN)\n",
        "    plr = sensitivity / (1 - specificity)\n",
        "    nlr = (1 - sensitivity) / specificity\n",
        "    f1_pos_class = f1_score(true_labels, final_predicted_labels)\n",
        "\n",
        "    # ROC AUC\n",
        "    fpr, tpr, _ = roc_curve(true_labels, predicted_probs)\n",
        "    roc_auc = auc(fpr, tpr)\n",
        "\n",
        "    # create a DataFrame and append to the CSV file\n",
        "    df = pd.DataFrame({\n",
        "        'Model Name': [model_name],\n",
        "        'AUC': [roc_auc],\n",
        "        'F1-Score Positive Class': [f1_pos_class],\n",
        "        'Accuracy': [accuracy],\n",
        "        'Sensitivity': [sensitivity],\n",
        "        'Specificity': [specificity],\n",
        "        'PPV': [precision],\n",
        "        'NPV': [npv],\n",
        "        'PLR': [plr],\n",
        "        'NLR': [nlr]\n",
        "    }).round(2)\n",
        "\n",
        "    if os.path.exists(csv_file):\n",
        "        df.to_csv(csv_file, mode='a', header=False, index=False)\n",
        "    else:\n",
        "        df.to_csv(csv_file, index=False)\n",
        "\n",
        "    print(df)\n",
        "\n",
        "    # plotting and saving ROC Curve\n",
        "    plt.figure()\n",
        "    plt.plot(fpr, tpr, color='darkorange', lw=2, label='ROC curve (area = {:.2f})'.format(roc_auc))\n",
        "    plt.plot([0, 1], [0, 1], color='navy', lw=2, linestyle='--')\n",
        "    plt.xlim([0.0, 1.0])\n",
        "    plt.ylim([0.0, 1.05])\n",
        "    plt.xlabel('False Positive Rate')\n",
        "    plt.ylabel('True Positive Rate')\n",
        "    plt.title('Receiver Operating Characteristic')\n",
        "    plt.legend(loc='lower right')\n",
        "    plt.savefig(f'{results_folder}/{model_name}_run_{timestamp}_roc_curve.png')\n",
        "    plt.show()"
      ]
    },
    {
      "cell_type": "code",
      "execution_count": 6,
      "metadata": {
        "colab": {
          "base_uri": "https://localhost:8080/"
        },
        "id": "TSADoAO1DP7M",
        "outputId": "bad3b65d-9108-4c69-eb1b-3d4ec9fe1856"
      },
      "outputs": [
        {
          "name": "stdout",
          "output_type": "stream",
          "text": [
            "Mounted at /content/drive\n"
          ]
        }
      ],
      "source": [
        "from google.colab import drive\n",
        "drive.mount('/content/drive')"
      ]
    },
    {
      "cell_type": "code",
      "execution_count": 7,
      "metadata": {
        "colab": {
          "base_uri": "https://localhost:8080/"
        },
        "id": "pnaIOe8O8q7R",
        "outputId": "3c1ef24a-4773-4c6f-bbc4-03f260c15481"
      },
      "outputs": [
        {
          "name": "stdout",
          "output_type": "stream",
          "text": [
            "Archive:  /content/drive/MyDrive/TFM/GLCM_CIR.zip\n",
            "  inflating: /content/X_test_CIR.csv  \n",
            "  inflating: /content/X_train_CIR.csv  \n",
            "  inflating: /content/y_test_CIR.csv  \n",
            "  inflating: /content/y_train_CIR.csv  \n"
          ]
        }
      ],
      "source": [
        "!unzip \"/content/drive/MyDrive/TFM/GLCM_CIR.zip\" -d \"/content\""
      ]
    },
    {
      "cell_type": "code",
      "execution_count": 8,
      "metadata": {
        "id": "eDPffDRK8-wz"
      },
      "outputs": [],
      "source": [
        "X_train = np.loadtxt(\"/content/X_train_CIR.csv\", delimiter=\",\")\n",
        "y_train = np.loadtxt('/content/y_train_CIR.csv', delimiter=\",\")\n",
        "X_test = np.loadtxt('/content/X_test_CIR.csv', delimiter=\",\")\n",
        "y_test = np.loadtxt('/content/y_test_CIR.csv', delimiter=\",\")"
      ]
    },
    {
      "cell_type": "code",
      "execution_count": 9,
      "metadata": {
        "id": "LINsBp67J_wc"
      },
      "outputs": [],
      "source": [
        "scorer = make_scorer(f1_score, pos_label=1)"
      ]
    },
    {
      "cell_type": "code",
      "execution_count": 10,
      "metadata": {
        "colab": {
          "base_uri": "https://localhost:8080/"
        },
        "id": "K25P4-dRQRxW",
        "outputId": "93bfc621-99e2-46e5-9688-6c28a9264926"
      },
      "outputs": [
        {
          "name": "stdout",
          "output_type": "stream",
          "text": [
            "Best Parameters: {'C': 1, 'class_weight': None, 'gamma': 0.001, 'kernel': 'rbf'}\n",
            "Best Score: 0.0\n",
            "82.02248096466064\n"
          ]
        }
      ],
      "source": [
        "import time\n",
        "s = time.time()\n",
        "# Define the parameter grid\n",
        "param_grid = {\n",
        "    'C': [1, 10, 100, 1000, 10000],\n",
        "    'kernel': ['rbf', 'poly'],\n",
        "    'gamma': [0.001, 0.01, 0.1, 0.5],\n",
        "    'class_weight': [None, 'balanced']\n",
        "}\n",
        "\n",
        "# Create a GridSearchCV object\n",
        "grid_search = GridSearchCV(estimator=SVC(), param_grid=param_grid, cv=10, scoring=scorer)\n",
        "\n",
        "# Perform the grid search\n",
        "grid_search.fit(X_train, y_train)\n",
        "\n",
        "# Best parameters and best score\n",
        "print(\"Best Parameters:\", grid_search.best_params_)\n",
        "print(\"Best Score:\", grid_search.best_score_)\n",
        "e = time.time()\n",
        "print(e-s)"
      ]
    },
    {
      "cell_type": "code",
      "execution_count": 11,
      "metadata": {
        "id": "82vVRdt6Imbo"
      },
      "outputs": [],
      "source": [
        "best_params = grid_search.best_params_"
      ]
    },
    {
      "cell_type": "code",
      "execution_count": 12,
      "metadata": {
        "colab": {
          "base_uri": "https://localhost:8080/"
        },
        "id": "GexcH3WxBI7e",
        "outputId": "ad51ace6-2f6d-48b7-8571-7e750f37990d"
      },
      "outputs": [
        {
          "name": "stdout",
          "output_type": "stream",
          "text": [
            "[W] [13:35:44.714061] Random state is currently ignored by probabilistic SVC\n"
          ]
        }
      ],
      "source": [
        "best_svc_clf = SVC(**best_params, probability=True, random_state=42)"
      ]
    },
    {
      "cell_type": "code",
      "execution_count": 13,
      "metadata": {
        "colab": {
          "base_uri": "https://localhost:8080/"
        },
        "id": "Bb-niJ4vBJcd",
        "outputId": "06c14f72-e2a4-42b1-af30-83e697b63d4e"
      },
      "outputs": [
        {
          "data": {
            "text/plain": [
              "SVC()"
            ]
          },
          "execution_count": 13,
          "metadata": {},
          "output_type": "execute_result"
        }
      ],
      "source": [
        "best_svc_clf.fit(X_train, y_train)"
      ]
    },
    {
      "cell_type": "code",
      "execution_count": 16,
      "metadata": {
        "colab": {
          "base_uri": "https://localhost:8080/",
          "height": 1000
        },
        "id": "cvdms_aoQXpp",
        "outputId": "bffc3832-74aa-4d19-f134-e0d0cd28ae27"
      },
      "outputs": [
        {
          "name": "stdout",
          "output_type": "stream",
          "text": [
            "Best threshold: 0.13 with F1-score: 0.15\n"
          ]
        },
        {
          "data": {
            "image/png": "[encoded data removed]",
            "text/plain": [
              "<Figure size 800x800 with 2 Axes>"
            ]
          },
          "metadata": {},
          "output_type": "display_data"
        },
        {
          "name": "stdout",
          "output_type": "stream",
          "text": [
            "              precision    recall  f1-score   support\n",
            "\n",
            "         0.0       0.96      0.36      0.52       304\n",
            "         1.0       0.08      0.81      0.15        21\n",
            "\n",
            "    accuracy                           0.39       325\n",
            "   macro avg       0.52      0.58      0.33       325\n",
            "weighted avg       0.91      0.39      0.50       325\n",
            "\n",
            "     Model Name   AUC  F1-Score Positive Class  Accuracy  Sensitivity  \\\n",
            "0  CIR-SVC-poly  0.63                     0.15      0.39         0.81   \n",
            "\n",
            "   Specificity   PPV   NPV   PLR   NLR  \n",
            "0         0.36  0.08  0.96  1.26  0.53  \n"
          ]
        },
        {
          "data": {
            "image/png": "[encoded data removed]",
            "text/plain": [
              "<Figure size 640x480 with 1 Axes>"
            ]
          },
          "metadata": {},
          "output_type": "display_data"
        }
      ],
      "source": [
        "get_model_metrics(test_data=[X_test,y_test], model=best_svc_clf, model_name='CIR-SVC-poly')"
      ]
    },
    {
      "cell_type": "code",
      "execution_count": 17,
      "metadata": {
        "colab": {
          "base_uri": "https://localhost:8080/"
        },
        "id": "YB33xrVZQXrw",
        "outputId": "f3384dd0-907e-4577-87c0-bc7f932ea002"
      },
      "outputs": [
        {
          "name": "stdout",
          "output_type": "stream",
          "text": [
            "Best Parameters: {'C': 10, 'class_weight': 'balanced'}\n",
            "Best Score: 0.021508908630204212\n",
            "76.49251103401184\n"
          ]
        }
      ],
      "source": [
        "import time\n",
        "from sklearn.svm import LinearSVC\n",
        "import warnings\n",
        "warnings.filterwarnings('ignore')\n",
        "\n",
        "s = time.time()\n",
        "# Define the parameter grid\n",
        "param_grid = {\n",
        "    'C': [1, 10, 100, 1000, 10000],\n",
        "    'class_weight': [None, 'balanced']\n",
        "}\n",
        "\n",
        "# Create a GridSearchCV object\n",
        "grid_search = GridSearchCV(estimator=LinearSVC(), param_grid=param_grid, cv=10, scoring=scorer)\n",
        "\n",
        "# Perform the grid search\n",
        "grid_search.fit(X_train, y_train)\n",
        "\n",
        "# Best parameters and best score\n",
        "print(\"Best Parameters:\", grid_search.best_params_)\n",
        "print(\"Best Score:\", grid_search.best_score_)\n",
        "e = time.time()\n",
        "print(e-s)\n"
      ]
    },
    {
      "cell_type": "code",
      "execution_count": 18,
      "metadata": {
        "id": "BJOEatLyjs-E"
      },
      "outputs": [],
      "source": [
        "best_params = grid_search.best_params_"
      ]
    },
    {
      "cell_type": "code",
      "execution_count": 19,
      "metadata": {
        "colab": {
          "base_uri": "https://localhost:8080/"
        },
        "id": "eqX0tSmqjtAw",
        "outputId": "e13a6fae-7fc8-4a22-913e-c0b264aab29f"
      },
      "outputs": [
        {
          "name": "stdout",
          "output_type": "stream",
          "text": [
            "[W] [13:41:07.523582] Random state is currently ignored by probabilistic SVC\n"
          ]
        }
      ],
      "source": [
        "best_svc_clf = SVC(**best_params, probability=True, random_state=42)"
      ]
    },
    {
      "cell_type": "code",
      "execution_count": 20,
      "metadata": {
        "colab": {
          "base_uri": "https://localhost:8080/"
        },
        "id": "PtpoOR6XjtDT",
        "outputId": "f5aaafd4-3980-4b86-8b2e-376453b31229"
      },
      "outputs": [
        {
          "name": "stdout",
          "output_type": "stream",
          "text": [
            "[W] [13:41:08.154546] Warning: could not fill working set, found only 918 elements\n",
            "[W] [13:41:08.157443] Warning: could not fill working set, found only 1016 elements\n",
            "[W] [13:41:08.159606] Warning: could not fill working set, found only 919 elements\n",
            "[W] [13:41:08.211688] Warning: could not fill working set, found only 950 elements\n",
            "[W] [13:41:08.214825] Warning: could not fill working set, found only 1011 elements\n",
            "[W] [13:41:08.217945] Warning: could not fill working set, found only 952 elements\n",
            "[W] [13:41:08.271115] Warning: could not fill working set, found only 1005 elements\n",
            "[W] [13:41:08.276405] Warning: could not fill working set, found only 1019 elements\n"
          ]
        },
        {
          "data": {
            "text/plain": [
              "SVC()"
            ]
          },
          "execution_count": 20,
          "metadata": {},
          "output_type": "execute_result"
        }
      ],
      "source": [
        "best_svc_clf.fit(X_train, y_train)"
      ]
    },
    {
      "cell_type": "code",
      "execution_count": 21,
      "metadata": {
        "colab": {
          "base_uri": "https://localhost:8080/",
          "height": 1000
        },
        "id": "QRbpdJAXjtF8",
        "outputId": "9866cadf-dd9e-42c4-a9dd-82c3f71601cd"
      },
      "outputs": [
        {
          "name": "stdout",
          "output_type": "stream",
          "text": [
            "Best threshold: 0.00 with F1-score: 0.12\n"
          ]
        },
        {
          "data": {
            "image/png": "[encoded data removed]",
            "text/plain": [
              "<Figure size 800x800 with 2 Axes>"
            ]
          },
          "metadata": {},
          "output_type": "display_data"
        },
        {
          "name": "stdout",
          "output_type": "stream",
          "text": [
            "              precision    recall  f1-score   support\n",
            "\n",
            "         0.0       0.00      0.00      0.00       304\n",
            "         1.0       0.06      1.00      0.12        21\n",
            "\n",
            "    accuracy                           0.06       325\n",
            "   macro avg       0.03      0.50      0.06       325\n",
            "weighted avg       0.00      0.06      0.01       325\n",
            "\n",
            "       Model Name   AUC  F1-Score Positive Class  Accuracy  Sensitivity  \\\n",
            "0  CIR-SVC-linear  0.45                     0.12      0.06          1.0   \n",
            "\n",
            "   Specificity   PPV  NPV  PLR  NLR  \n",
            "0          0.0  0.06  NaN  1.0  NaN  \n"
          ]
        },
        {
          "data": {
            "image/png": "[encoded data removed]",
            "text/plain": [
              "<Figure size 640x480 with 1 Axes>"
            ]
          },
          "metadata": {},
          "output_type": "display_data"
        }
      ],
      "source": [
        "get_model_metrics(test_data=[X_test,y_test], model=best_svc_clf, model_name='CIR-SVC-linear')"
      ]
    },
    {
      "cell_type": "code",
      "execution_count": null,
      "metadata": {
        "id": "DuzYU2Wjj466"
      },
      "outputs": [],
      "source": []
    }
  ],
  "metadata": {
    "accelerator": "GPU",
    "colab": {
      "gpuType": "V100",
      "provenance": []
    },
    "kernelspec": {
      "display_name": "Python 3",
      "name": "python3"
    },
    "language_info": {
      "codemirror_mode": {
        "name": "ipython",
        "version": 3
      },
      "file_extension": ".py",
      "mimetype": "text/x-python",
      "name": "python",
      "nbconvert_exporter": "python",
      "pygments_lexer": "ipython3",
      "version": "3.7.6"
    }
  },
  "nbformat": 4,
  "nbformat_minor": 0
}
